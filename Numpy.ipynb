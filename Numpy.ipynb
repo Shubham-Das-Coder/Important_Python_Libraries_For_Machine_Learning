{
  "nbformat": 4,
  "nbformat_minor": 0,
  "metadata": {
    "colab": {
      "name": "Numpy.ipynb",
      "provenance": [],
      "collapsed_sections": [],
      "authorship_tag": "ABX9TyPLFuPYFkTMzpemHpbKUH45",
      "include_colab_link": true
    },
    "kernelspec": {
      "name": "python3",
      "display_name": "Python 3"
    },
    "language_info": {
      "name": "python"
    }
  },
  "cells": [
    {
      "cell_type": "markdown",
      "metadata": {
        "id": "view-in-github",
        "colab_type": "text"
      },
      "source": [
        "<a href=\"https://colab.research.google.com/github/Shubham-Das-Coder/Important_Python_Libraries_For_Machine_Learning/blob/main/Numpy.ipynb\" target=\"_parent\"><img src=\"https://colab.research.google.com/assets/colab-badge.svg\" alt=\"Open In Colab\"/></a>"
      ]
    },
    {
      "cell_type": "code",
      "metadata": {
        "id": "K8FpDCoNYEDN"
      },
      "source": [
        "import numpy as np"
      ],
      "execution_count": 1,
      "outputs": []
    },
    {
      "cell_type": "markdown",
      "metadata": {
        "id": "ksZnty-EYc79"
      },
      "source": [
        "*Lsit Vs Numpy - Time Taken*"
      ]
    },
    {
      "cell_type": "code",
      "metadata": {
        "id": "HGfwp1LCYJgt"
      },
      "source": [
        "from time import process_time"
      ],
      "execution_count": 2,
      "outputs": []
    },
    {
      "cell_type": "markdown",
      "metadata": {
        "id": "v3CB-YQRYp1g"
      },
      "source": [
        "*Time Taken By A List*"
      ]
    },
    {
      "cell_type": "code",
      "metadata": {
        "colab": {
          "base_uri": "https://localhost:8080/"
        },
        "id": "THdpUK47Ymuz",
        "outputId": "ddcb91f6-0e87-4ea1-a1a3-55858a24a43c"
      },
      "source": [
        "python_list=[i for i in range(10000)]\n",
        "\n",
        "start_time=process_time()\n",
        "\n",
        "python_list=[i+5 for i in python_list]\n",
        "\n",
        "end_time=process_time()\n",
        "\n",
        "print(end_time-start_time)"
      ],
      "execution_count": 3,
      "outputs": [
        {
          "output_type": "stream",
          "name": "stdout",
          "text": [
            "0.0018619699999999906\n"
          ]
        }
      ]
    },
    {
      "cell_type": "code",
      "metadata": {
        "colab": {
          "base_uri": "https://localhost:8080/"
        },
        "id": "WCdYmTokZNvk",
        "outputId": "efeda180-f63f-43f9-83b6-e18dfed65a6f"
      },
      "source": [
        "np_array=np.array([i for i in range(10000)])\n",
        "\n",
        "start_time=process_time()\n",
        "\n",
        "np_array+=5\n",
        "\n",
        "end_time=process_time()\n",
        "\n",
        "print(end_time-start_time)"
      ],
      "execution_count": 4,
      "outputs": [
        {
          "output_type": "stream",
          "name": "stdout",
          "text": [
            "0.000431854999999981\n"
          ]
        }
      ]
    },
    {
      "cell_type": "markdown",
      "metadata": {
        "id": "SxElLppahEXg"
      },
      "source": [
        "*Numpy Arrays*"
      ]
    },
    {
      "cell_type": "code",
      "metadata": {
        "colab": {
          "base_uri": "https://localhost:8080/"
        },
        "id": "WSDR2ksfZqmI",
        "outputId": "06bb0e42-2a67-4521-defe-2a3d1e7b532d"
      },
      "source": [
        "list1=[1,2,3,4,5]\n",
        "print(list1)\n",
        "type(list1)"
      ],
      "execution_count": 5,
      "outputs": [
        {
          "output_type": "stream",
          "name": "stdout",
          "text": [
            "[1, 2, 3, 4, 5]\n"
          ]
        },
        {
          "output_type": "execute_result",
          "data": {
            "text/plain": [
              "list"
            ]
          },
          "metadata": {},
          "execution_count": 5
        }
      ]
    },
    {
      "cell_type": "code",
      "metadata": {
        "colab": {
          "base_uri": "https://localhost:8080/"
        },
        "id": "W-W0F5NWhRZt",
        "outputId": "c6700e7f-8eb5-4d0e-a454-e92980c429f1"
      },
      "source": [
        "np_array=np.array([1,2,3,4,5])\n",
        "print(np_array)\n",
        "type(np_array)"
      ],
      "execution_count": 6,
      "outputs": [
        {
          "output_type": "stream",
          "name": "stdout",
          "text": [
            "[1 2 3 4 5]\n"
          ]
        },
        {
          "output_type": "execute_result",
          "data": {
            "text/plain": [
              "numpy.ndarray"
            ]
          },
          "metadata": {},
          "execution_count": 6
        }
      ]
    },
    {
      "cell_type": "code",
      "metadata": {
        "colab": {
          "base_uri": "https://localhost:8080/"
        },
        "id": "-7pnv-pkhbjb",
        "outputId": "7757a7b3-73b7-4cf6-b56d-f24ea36304e2"
      },
      "source": [
        "a=np.array([1,2,3,4])\n",
        "print(a)"
      ],
      "execution_count": 7,
      "outputs": [
        {
          "output_type": "stream",
          "name": "stdout",
          "text": [
            "[1 2 3 4]\n"
          ]
        }
      ]
    },
    {
      "cell_type": "code",
      "metadata": {
        "colab": {
          "base_uri": "https://localhost:8080/"
        },
        "id": "0EGN2LT6hlrc",
        "outputId": "57b5823c-0f9a-41b3-d917-08251d4c1933"
      },
      "source": [
        "a.shape"
      ],
      "execution_count": 8,
      "outputs": [
        {
          "output_type": "execute_result",
          "data": {
            "text/plain": [
              "(4,)"
            ]
          },
          "metadata": {},
          "execution_count": 8
        }
      ]
    },
    {
      "cell_type": "code",
      "metadata": {
        "colab": {
          "base_uri": "https://localhost:8080/"
        },
        "id": "WGKqxsmUhpb8",
        "outputId": "6b9450f3-ade9-4d37-8db8-9523382937e8"
      },
      "source": [
        "b=np.array([(1,2,3,4),(5,6,7,8)])\n",
        "print(b)"
      ],
      "execution_count": 9,
      "outputs": [
        {
          "output_type": "stream",
          "name": "stdout",
          "text": [
            "[[1 2 3 4]\n",
            " [5 6 7 8]]\n"
          ]
        }
      ]
    },
    {
      "cell_type": "code",
      "metadata": {
        "colab": {
          "base_uri": "https://localhost:8080/"
        },
        "id": "dqDSd_w2h1h8",
        "outputId": "9b04b6dc-09bb-490c-9998-8f8e59405e2a"
      },
      "source": [
        "b.shape"
      ],
      "execution_count": 10,
      "outputs": [
        {
          "output_type": "execute_result",
          "data": {
            "text/plain": [
              "(2, 4)"
            ]
          },
          "metadata": {},
          "execution_count": 10
        }
      ]
    },
    {
      "cell_type": "code",
      "metadata": {
        "colab": {
          "base_uri": "https://localhost:8080/"
        },
        "id": "ayujex0QiCjr",
        "outputId": "db4bb7cb-72ec-44cf-fd63-3da93a6abf79"
      },
      "source": [
        "c=np.array([(1,2,3,4),(5,6,7,8)],dtype=float)\n",
        "print(c)"
      ],
      "execution_count": 11,
      "outputs": [
        {
          "output_type": "stream",
          "name": "stdout",
          "text": [
            "[[1. 2. 3. 4.]\n",
            " [5. 6. 7. 8.]]\n"
          ]
        }
      ]
    },
    {
      "cell_type": "markdown",
      "metadata": {
        "id": "41fGdvT2iXVB"
      },
      "source": [
        "*Initial Placeholders In Numpy Arrays*"
      ]
    },
    {
      "cell_type": "code",
      "metadata": {
        "colab": {
          "base_uri": "https://localhost:8080/"
        },
        "id": "6-4FJIuuicsu",
        "outputId": "8a3e86ad-ea78-4e4f-922b-20bb293175c5"
      },
      "source": [
        "x=np.zeros((4,5))\n",
        "print(x)"
      ],
      "execution_count": 12,
      "outputs": [
        {
          "output_type": "stream",
          "name": "stdout",
          "text": [
            "[[0. 0. 0. 0. 0.]\n",
            " [0. 0. 0. 0. 0.]\n",
            " [0. 0. 0. 0. 0.]\n",
            " [0. 0. 0. 0. 0.]]\n"
          ]
        }
      ]
    },
    {
      "cell_type": "code",
      "metadata": {
        "colab": {
          "base_uri": "https://localhost:8080/"
        },
        "id": "tv3lPP1hire1",
        "outputId": "2662ec82-c51b-45db-b13b-eb8075db3cf8"
      },
      "source": [
        "y=np.ones((3,3))\n",
        "print(y)"
      ],
      "execution_count": 13,
      "outputs": [
        {
          "output_type": "stream",
          "name": "stdout",
          "text": [
            "[[1. 1. 1.]\n",
            " [1. 1. 1.]\n",
            " [1. 1. 1.]]\n"
          ]
        }
      ]
    },
    {
      "cell_type": "code",
      "metadata": {
        "colab": {
          "base_uri": "https://localhost:8080/"
        },
        "id": "fWqN9MWniy-8",
        "outputId": "e3dd3da6-aec3-402b-c239-abc632308633"
      },
      "source": [
        "z=np.full((5,4),5)\n",
        "print(z)"
      ],
      "execution_count": 14,
      "outputs": [
        {
          "output_type": "stream",
          "name": "stdout",
          "text": [
            "[[5 5 5 5]\n",
            " [5 5 5 5]\n",
            " [5 5 5 5]\n",
            " [5 5 5 5]\n",
            " [5 5 5 5]]\n"
          ]
        }
      ]
    },
    {
      "cell_type": "code",
      "metadata": {
        "colab": {
          "base_uri": "https://localhost:8080/"
        },
        "id": "R2i_Fp32i6oU",
        "outputId": "064ee553-a814-41a6-dce8-9e95bcf61482"
      },
      "source": [
        "a=np.eye(4)\n",
        "print(a)"
      ],
      "execution_count": 15,
      "outputs": [
        {
          "output_type": "stream",
          "name": "stdout",
          "text": [
            "[[1. 0. 0. 0.]\n",
            " [0. 1. 0. 0.]\n",
            " [0. 0. 1. 0.]\n",
            " [0. 0. 0. 1.]]\n"
          ]
        }
      ]
    },
    {
      "cell_type": "code",
      "metadata": {
        "colab": {
          "base_uri": "https://localhost:8080/"
        },
        "id": "SUnYHahHjGks",
        "outputId": "2b2b5e77-0f6c-4e2b-88d6-341a2500c4c0"
      },
      "source": [
        "b=np.random.random((3,4))\n",
        "print(b)"
      ],
      "execution_count": 16,
      "outputs": [
        {
          "output_type": "stream",
          "name": "stdout",
          "text": [
            "[[0.03125315 0.04609354 0.94039463 0.4588007 ]\n",
            " [0.76642652 0.49578057 0.07126404 0.072624  ]\n",
            " [0.02984586 0.04732825 0.45816163 0.65318603]]\n"
          ]
        }
      ]
    },
    {
      "cell_type": "code",
      "metadata": {
        "colab": {
          "base_uri": "https://localhost:8080/"
        },
        "id": "adGywpmFjTss",
        "outputId": "de634a60-7cb4-432d-b380-d70c5f2c3b2c"
      },
      "source": [
        "c=np.random.randint(10,100,(3,5))\n",
        "print(c)"
      ],
      "execution_count": 17,
      "outputs": [
        {
          "output_type": "stream",
          "name": "stdout",
          "text": [
            "[[42 17 20 52 95]\n",
            " [65 67 43 72 24]\n",
            " [35 93 63 69 43]]\n"
          ]
        }
      ]
    },
    {
      "cell_type": "code",
      "metadata": {
        "colab": {
          "base_uri": "https://localhost:8080/"
        },
        "id": "GWNsaNeHjihl",
        "outputId": "b980ae08-0edd-4d2d-ea05-e2554f24d5a7"
      },
      "source": [
        "d=np.linspace(10,30,5)\n",
        "print(d)"
      ],
      "execution_count": 18,
      "outputs": [
        {
          "output_type": "stream",
          "name": "stdout",
          "text": [
            "[10. 15. 20. 25. 30.]\n"
          ]
        }
      ]
    },
    {
      "cell_type": "code",
      "metadata": {
        "colab": {
          "base_uri": "https://localhost:8080/"
        },
        "id": "jWf85yo6jvz9",
        "outputId": "6222bef7-5ac5-44ae-e764-441fbb550d0d"
      },
      "source": [
        "e=np.arange(10,30,5)\n",
        "print(e)"
      ],
      "execution_count": 19,
      "outputs": [
        {
          "output_type": "stream",
          "name": "stdout",
          "text": [
            "[10 15 20 25]\n"
          ]
        }
      ]
    },
    {
      "cell_type": "code",
      "metadata": {
        "colab": {
          "base_uri": "https://localhost:8080/"
        },
        "id": "zQnhKXFNj7n-",
        "outputId": "d487094e-8f88-4252-af9e-d6f688321074"
      },
      "source": [
        "list2=[10,20,30,40,50]\n",
        "\n",
        "np_array=np.array(list2)\n",
        "print(np_array)\n",
        "type(np_array)"
      ],
      "execution_count": 20,
      "outputs": [
        {
          "output_type": "stream",
          "name": "stdout",
          "text": [
            "[10 20 30 40 50]\n"
          ]
        },
        {
          "output_type": "execute_result",
          "data": {
            "text/plain": [
              "numpy.ndarray"
            ]
          },
          "metadata": {},
          "execution_count": 20
        }
      ]
    },
    {
      "cell_type": "code",
      "metadata": {
        "colab": {
          "base_uri": "https://localhost:8080/"
        },
        "id": "Z3Ofhm0PqM0T",
        "outputId": "0eabed5a-66ad-4e83-8172-27ed0a7edc92"
      },
      "source": [
        "c=np.random.randint(10,90,(5,5))\n",
        "print(c)"
      ],
      "execution_count": 21,
      "outputs": [
        {
          "output_type": "stream",
          "name": "stdout",
          "text": [
            "[[72 14 43 75 40]\n",
            " [35 41 72 13 16]\n",
            " [20 48 85 63 83]\n",
            " [73 51 14 33 59]\n",
            " [72 46 23 33 48]]\n"
          ]
        }
      ]
    },
    {
      "cell_type": "code",
      "metadata": {
        "colab": {
          "base_uri": "https://localhost:8080/"
        },
        "id": "ufdbXEaqqVGo",
        "outputId": "c852c629-ae1e-4a6b-c7e8-3a6d8cd6666d"
      },
      "source": [
        "print(c.shape)"
      ],
      "execution_count": 22,
      "outputs": [
        {
          "output_type": "stream",
          "name": "stdout",
          "text": [
            "(5, 5)\n"
          ]
        }
      ]
    },
    {
      "cell_type": "code",
      "metadata": {
        "colab": {
          "base_uri": "https://localhost:8080/"
        },
        "id": "B7n_4EyHqeo4",
        "outputId": "d46ae77c-4d85-45fc-ce00-439f7f673ef3"
      },
      "source": [
        "print(c.ndim)"
      ],
      "execution_count": 23,
      "outputs": [
        {
          "output_type": "stream",
          "name": "stdout",
          "text": [
            "2\n"
          ]
        }
      ]
    },
    {
      "cell_type": "code",
      "metadata": {
        "colab": {
          "base_uri": "https://localhost:8080/"
        },
        "id": "KYA4OkQ5qgf4",
        "outputId": "0c99fc51-cca1-41f8-9c41-22edc331e2ae"
      },
      "source": [
        "print(c.size)"
      ],
      "execution_count": 24,
      "outputs": [
        {
          "output_type": "stream",
          "name": "stdout",
          "text": [
            "25\n"
          ]
        }
      ]
    },
    {
      "cell_type": "code",
      "metadata": {
        "colab": {
          "base_uri": "https://localhost:8080/"
        },
        "id": "ReX8hpvIqjTI",
        "outputId": "95254303-e2ca-4d40-a4f6-931d281753b8"
      },
      "source": [
        "print(c.dtype)"
      ],
      "execution_count": 25,
      "outputs": [
        {
          "output_type": "stream",
          "name": "stdout",
          "text": [
            "int64\n"
          ]
        }
      ]
    },
    {
      "cell_type": "markdown",
      "metadata": {
        "id": "i2HzkUQkqptL"
      },
      "source": [
        "*Mathematical Operations On A Numpy Array*"
      ]
    },
    {
      "cell_type": "code",
      "metadata": {
        "colab": {
          "base_uri": "https://localhost:8080/"
        },
        "id": "Oby1CnPmqml_",
        "outputId": "ec6bd271-cd05-4202-ef93-d52c1b8c42fc"
      },
      "source": [
        "list1=[1,3,5,7,9]\n",
        "list2=[2,4,6,8]\n",
        "print(list1+list2)"
      ],
      "execution_count": 26,
      "outputs": [
        {
          "output_type": "stream",
          "name": "stdout",
          "text": [
            "[1, 3, 5, 7, 9, 2, 4, 6, 8]\n"
          ]
        }
      ]
    },
    {
      "cell_type": "code",
      "metadata": {
        "colab": {
          "base_uri": "https://localhost:8080/"
        },
        "id": "jE57ZL2rq5FQ",
        "outputId": "327c9663-8887-4169-d9ee-1576d6ef8e11"
      },
      "source": [
        "a=np.random.randint(0,10,(3,3))\n",
        "b=np.random.randint(10,20,(3,3))\n",
        "print(a)\n",
        "print(b)"
      ],
      "execution_count": 27,
      "outputs": [
        {
          "output_type": "stream",
          "name": "stdout",
          "text": [
            "[[3 0 4]\n",
            " [3 3 6]\n",
            " [0 3 2]]\n",
            "[[11 18 17]\n",
            " [17 10 14]\n",
            " [16 10 18]]\n"
          ]
        }
      ]
    },
    {
      "cell_type": "code",
      "metadata": {
        "colab": {
          "base_uri": "https://localhost:8080/"
        },
        "id": "Xpi_eOJ8rYh4",
        "outputId": "c5ac8acb-c55c-49e7-b682-be602701c408"
      },
      "source": [
        "print(a+b)"
      ],
      "execution_count": 28,
      "outputs": [
        {
          "output_type": "stream",
          "name": "stdout",
          "text": [
            "[[14 18 21]\n",
            " [20 13 20]\n",
            " [16 13 20]]\n"
          ]
        }
      ]
    },
    {
      "cell_type": "code",
      "metadata": {
        "colab": {
          "base_uri": "https://localhost:8080/"
        },
        "id": "lZOA3MFrrcSR",
        "outputId": "58275e30-9797-42be-ef42-e55a99d06d11"
      },
      "source": [
        "print(a-b)"
      ],
      "execution_count": 29,
      "outputs": [
        {
          "output_type": "stream",
          "name": "stdout",
          "text": [
            "[[ -8 -18 -13]\n",
            " [-14  -7  -8]\n",
            " [-16  -7 -16]]\n"
          ]
        }
      ]
    },
    {
      "cell_type": "code",
      "metadata": {
        "colab": {
          "base_uri": "https://localhost:8080/"
        },
        "id": "WGBUMoCvrg8Q",
        "outputId": "055d192a-c4dd-4c20-c273-ff70bee35b81"
      },
      "source": [
        "print(a*b)"
      ],
      "execution_count": 30,
      "outputs": [
        {
          "output_type": "stream",
          "name": "stdout",
          "text": [
            "[[33  0 68]\n",
            " [51 30 84]\n",
            " [ 0 30 36]]\n"
          ]
        }
      ]
    },
    {
      "cell_type": "code",
      "metadata": {
        "colab": {
          "base_uri": "https://localhost:8080/"
        },
        "id": "Hnnoz9ezrj7I",
        "outputId": "d630bd84-c2b2-4696-afc4-4a927a378ee7"
      },
      "source": [
        "print(a/b)"
      ],
      "execution_count": 31,
      "outputs": [
        {
          "output_type": "stream",
          "name": "stdout",
          "text": [
            "[[0.27272727 0.         0.23529412]\n",
            " [0.17647059 0.3        0.42857143]\n",
            " [0.         0.3        0.11111111]]\n"
          ]
        }
      ]
    },
    {
      "cell_type": "code",
      "metadata": {
        "colab": {
          "base_uri": "https://localhost:8080/"
        },
        "id": "PftaT6xsrlLa",
        "outputId": "157223ae-e4af-4c48-c146-018583b066fe"
      },
      "source": [
        "c=np.random.randint(0,10,(3,3))\n",
        "d=np.random.randint(10,20,(3,3))\n",
        "print(c)\n",
        "print(d)"
      ],
      "execution_count": 32,
      "outputs": [
        {
          "output_type": "stream",
          "name": "stdout",
          "text": [
            "[[7 2 5]\n",
            " [1 0 3]\n",
            " [8 7 3]]\n",
            "[[18 17 14]\n",
            " [11 17 13]\n",
            " [15 14 19]]\n"
          ]
        }
      ]
    },
    {
      "cell_type": "code",
      "metadata": {
        "colab": {
          "base_uri": "https://localhost:8080/"
        },
        "id": "M544SgLhr6tA",
        "outputId": "1e82c5c1-7cb2-44c2-bdfd-10a1695db532"
      },
      "source": [
        "print(np.add(c,d))"
      ],
      "execution_count": 33,
      "outputs": [
        {
          "output_type": "stream",
          "name": "stdout",
          "text": [
            "[[25 19 19]\n",
            " [12 17 16]\n",
            " [23 21 22]]\n"
          ]
        }
      ]
    },
    {
      "cell_type": "code",
      "metadata": {
        "colab": {
          "base_uri": "https://localhost:8080/"
        },
        "id": "ZSqKCmpKsFQJ",
        "outputId": "f80f5f53-0e37-4a3f-9ec7-e4a5765aa461"
      },
      "source": [
        "print(np.subtract(c,d))"
      ],
      "execution_count": 34,
      "outputs": [
        {
          "output_type": "stream",
          "name": "stdout",
          "text": [
            "[[-11 -15  -9]\n",
            " [-10 -17 -10]\n",
            " [ -7  -7 -16]]\n"
          ]
        }
      ]
    },
    {
      "cell_type": "code",
      "metadata": {
        "colab": {
          "base_uri": "https://localhost:8080/"
        },
        "id": "XDxhmYXnsMK6",
        "outputId": "0de17175-1200-427c-d27c-1606e494a313"
      },
      "source": [
        "print(np.multiply(c,d))"
      ],
      "execution_count": 35,
      "outputs": [
        {
          "output_type": "stream",
          "name": "stdout",
          "text": [
            "[[126  34  70]\n",
            " [ 11   0  39]\n",
            " [120  98  57]]\n"
          ]
        }
      ]
    },
    {
      "cell_type": "code",
      "metadata": {
        "colab": {
          "base_uri": "https://localhost:8080/"
        },
        "id": "WuRq9o1JsPSB",
        "outputId": "60bc83d5-08af-41b3-f145-6b5da3783f3c"
      },
      "source": [
        "print(np.divide(c,d))"
      ],
      "execution_count": 36,
      "outputs": [
        {
          "output_type": "stream",
          "name": "stdout",
          "text": [
            "[[0.38888889 0.11764706 0.35714286]\n",
            " [0.09090909 0.         0.23076923]\n",
            " [0.53333333 0.5        0.15789474]]\n"
          ]
        }
      ]
    },
    {
      "cell_type": "markdown",
      "metadata": {
        "id": "zHNmIa08sUiU"
      },
      "source": [
        "*Array Manipulation*"
      ]
    },
    {
      "cell_type": "code",
      "metadata": {
        "colab": {
          "base_uri": "https://localhost:8080/"
        },
        "id": "-3B6-5FTsRfR",
        "outputId": "81505d82-3cb4-4149-c795-f9431ee911bd"
      },
      "source": [
        "array=np.random.randint(0,10,(2,3))\n",
        "print(array)\n",
        "print(array.shape)"
      ],
      "execution_count": 37,
      "outputs": [
        {
          "output_type": "stream",
          "name": "stdout",
          "text": [
            "[[9 6 8]\n",
            " [3 5 3]]\n",
            "(2, 3)\n"
          ]
        }
      ]
    },
    {
      "cell_type": "code",
      "metadata": {
        "colab": {
          "base_uri": "https://localhost:8080/"
        },
        "id": "Cy5P0SwbsijB",
        "outputId": "13a5edbc-4b99-4f46-dbab-1872bc4144c9"
      },
      "source": [
        "trans=np.transpose(array)\n",
        "print(trans)\n",
        "print(trans.shape)"
      ],
      "execution_count": 38,
      "outputs": [
        {
          "output_type": "stream",
          "name": "stdout",
          "text": [
            "[[9 3]\n",
            " [6 5]\n",
            " [8 3]]\n",
            "(3, 2)\n"
          ]
        }
      ]
    },
    {
      "cell_type": "code",
      "metadata": {
        "colab": {
          "base_uri": "https://localhost:8080/"
        },
        "id": "S4JXNDVtsvuB",
        "outputId": "a8e6a807-baf6-46c2-e9fe-e908643d27f9"
      },
      "source": [
        "trans2=array.T\n",
        "print(trans2)\n",
        "print(trans2.shape)"
      ],
      "execution_count": 39,
      "outputs": [
        {
          "output_type": "stream",
          "name": "stdout",
          "text": [
            "[[9 3]\n",
            " [6 5]\n",
            " [8 3]]\n",
            "(3, 2)\n"
          ]
        }
      ]
    },
    {
      "cell_type": "code",
      "metadata": {
        "colab": {
          "base_uri": "https://localhost:8080/"
        },
        "id": "fkSmLpBGs8Qx",
        "outputId": "e3cd8c8b-e699-4864-e0ab-e5051f7b6e84"
      },
      "source": [
        "a=np.random.randint(0,10,(2,3))\n",
        "print(a)\n",
        "print(a.shape)"
      ],
      "execution_count": 40,
      "outputs": [
        {
          "output_type": "stream",
          "name": "stdout",
          "text": [
            "[[9 2 2]\n",
            " [9 8 6]]\n",
            "(2, 3)\n"
          ]
        }
      ]
    },
    {
      "cell_type": "code",
      "metadata": {
        "colab": {
          "base_uri": "https://localhost:8080/"
        },
        "id": "zVbJwgEttFQw",
        "outputId": "02128350-c489-46a9-888c-064de9a51cca"
      },
      "source": [
        "b=a.reshape(3,2)\n",
        "print(b)\n",
        "print(b.shape)"
      ],
      "execution_count": 41,
      "outputs": [
        {
          "output_type": "stream",
          "name": "stdout",
          "text": [
            "[[9 2]\n",
            " [2 9]\n",
            " [8 6]]\n",
            "(3, 2)\n"
          ]
        }
      ]
    },
    {
      "cell_type": "code",
      "metadata": {
        "id": "h0W4kdGUtN6R"
      },
      "source": [
        ""
      ],
      "execution_count": 41,
      "outputs": []
    }
  ]
}